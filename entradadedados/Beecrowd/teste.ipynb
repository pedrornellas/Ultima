{
 "cells": [
  {
   "cell_type": "code",
   "execution_count": 2,
   "metadata": {},
   "outputs": [
    {
     "name": "stdout",
     "output_type": "stream",
     "text": [
      "<sqlite3.Cursor object at 0x000001D0E1DDE040>\n",
      "<sqlite3.Cursor object at 0x000001D0E1DDE040>\n",
      "<sqlite3.Cursor object at 0x000001D0E1DDE040>\n",
      "<sqlite3.Cursor object at 0x000001D0E1DDE040>\n"
     ]
    }
   ],
   "source": [
    "#Exercicio 2609 Beecrowd\n",
    "\n",
    "import sqlite3 \n",
    "\n",
    "conexao = sqlite3.connect('beecrowd2609.db')\n",
    "\n",
    "cursor = conexao.cursor()\n",
    "\n",
    "#Criar Tabelas products e categories\n",
    "\n",
    "cursor.execute(\n",
    "        \"\"\"CREATE TABLE IF NOT EXISTS products (\n",
    "  id INT NOT NULL PRIMARY KEY,\n",
    "  name VARCHAR(255) NOT NULL,\n",
    "  amount INT NOT NULL,\n",
    "  price INT NOT NULL,\n",
    "  id_categories INT NOT NULL, \n",
    "    CONSTRAINT products_fk FOREIGN KEY (id_categories) REFERENCES categories(id)\n",
    ");\"\"\"\n",
    "\n",
    ")\n",
    "\n",
    "cursor.execute(\n",
    "\n",
    "        \"\"\"CREATE TABLE IF NOT EXISTS categories (\n",
    "  id INT NOT NULL PRIMARY KEY,\n",
    "  name VARCHAR(255) NOT NULL\n",
    "  \n",
    ");\"\"\"\n",
    ")\n",
    "\n",
    "#Popular as tabelas com os valores, conforme enunciado\n",
    "\n",
    "cursor.execute(\n",
    "\n",
    "       \"\"\"INSERT INTO products (id, name, amount, price, id_categories) VALUES \n",
    "    (1, 'Two-doors wardrobe', 100, 800, 1),\n",
    "    (2, 'Dining table', 1000, 560, 3),\n",
    "    (3, 'Towel holder', 10000, 25.50, 4),\n",
    "    (4, 'Computer desk', 350, 320.50, 2),\n",
    "    (5, 'Chair', 3000, 210.64, 4),\n",
    "    (6, 'Single bed', 750, 460, 1)\n",
    "  ;\"\"\"\n",
    "\n",
    ")\n",
    "\n",
    "cursor.execute(\n",
    "\n",
    "       \"\"\"INSERT INTO categories (id, name) VALUES \n",
    "    (1, 'wood'),\n",
    "    (2, 'luxury'),\n",
    "    (3, 'vintage'),\n",
    "    (4, 'modern'),\n",
    "    (5, 'super luxury')\n",
    "    \n",
    "  ;\"\"\"\n",
    "\n",
    ")\n",
    "\n",
    "#Select utilizando uma terceira tabela auxiliar, usando artificio do alias AS, para realizar o join e sum e gerar o resultado esperado no problema.\n",
    "\n",
    "sql=\"\"\"\n",
    "        SELECT categories.name, SUM(products.amount) AS sum\n",
    "        FROM products\n",
    "        INNER JOIN categories ON products.id_categories = categories.id\n",
    "        GROUP BY categories.name;\n",
    "  \"\"\"\n",
    "\n",
    "resultados = cursor.execute(sql)\n",
    "for resultado in resultados:\n",
    "    print(resultados)\n",
    "\n",
    "\n",
    "conexao.commit()\n",
    "conexao.close()"
   ]
  },
  {
   "cell_type": "code",
   "execution_count": 3,
   "metadata": {},
   "outputs": [
    {
     "name": "stdout",
     "output_type": "stream",
     "text": [
      "<sqlite3.Cursor object at 0x000001D0E1DDDF40>\n",
      "<sqlite3.Cursor object at 0x000001D0E1DDDF40>\n",
      "<sqlite3.Cursor object at 0x000001D0E1DDDF40>\n",
      "<sqlite3.Cursor object at 0x000001D0E1DDDF40>\n"
     ]
    }
   ],
   "source": [
    "import sqlite3 \n",
    "\n",
    "conexao = sqlite3.connect('beecrowd2609.db')\n",
    "\n",
    "cursor = conexao.cursor()\n",
    "\n",
    "sql=\"\"\"\n",
    "        SELECT categories.name, SUM(products.amount) AS sum\n",
    "        FROM products\n",
    "        INNER JOIN categories ON products.id_categories = categories.id\n",
    "        GROUP BY categories.name;\n",
    "  \"\"\"\n",
    "\n",
    "resultados = cursor.execute(sql)\n",
    "for resultado in resultados:\n",
    "    print(resultados)\n",
    "\n",
    "\n",
    "conexao.commit()\n",
    "conexao.close()"
   ]
  }
 ],
 "metadata": {
  "kernelspec": {
   "display_name": "Python 3",
   "language": "python",
   "name": "python3"
  },
  "language_info": {
   "codemirror_mode": {
    "name": "ipython",
    "version": 3
   },
   "file_extension": ".py",
   "mimetype": "text/x-python",
   "name": "python",
   "nbconvert_exporter": "python",
   "pygments_lexer": "ipython3",
   "version": "3.10.1"
  },
  "orig_nbformat": 4
 },
 "nbformat": 4,
 "nbformat_minor": 2
}
